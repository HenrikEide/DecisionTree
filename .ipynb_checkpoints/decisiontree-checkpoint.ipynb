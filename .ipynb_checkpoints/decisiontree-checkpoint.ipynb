{
 "cells": [
  {
   "cell_type": "code",
   "execution_count": 991,
   "metadata": {},
   "outputs": [],
   "source": [
    "import numpy as np\n",
    "import pandas as pd\n",
    "from typing import Tuple, List\n",
    "from sklearn.metrics import accuracy_score\n",
    "from sklearn.model_selection import train_test_split\n",
    "import matplotlib.pyplot as plt\n",
    "import time as t\n",
    "import sys"
   ]
  },
  {
   "cell_type": "code",
   "execution_count": 992,
   "metadata": {},
   "outputs": [],
   "source": [
    "def split_data(data, split_percent):\n",
    "    test_data = data.sample(frac=split_percent)\n",
    "    training_data = data.drop(test_data.index)\n",
    "    x_test = test_data.to_numpy()[:,0:10]\n",
    "    x_train = training_data.to_numpy()[:,0:10]\n",
    "    y_test = test_data.to_numpy()[:,10]\n",
    "    y_train = training_data.to_numpy()[:,10]\n",
    "\n",
    "    return x_train, x_test, y_train, y_test"
   ]
  },
  {
   "cell_type": "code",
   "execution_count": 993,
   "metadata": {},
   "outputs": [],
   "source": [
    "def is_identical(x):\n",
    "    for row in x:\n",
    "        if np.any(row != x[len(x)-1]):\n",
    "            return False\n",
    "        elif len(x) <= 1:\n",
    "            return True   \n",
    "        else:\n",
    "            return True"
   ]
  },
  {
   "cell_type": "code",
   "execution_count": 994,
   "metadata": {},
   "outputs": [
    {
     "name": "stdout",
     "output_type": "stream",
     "text": [
      "\n",
      "X_train: [[26.7897 13.7595 2.5521 ... -2.9292 0.812 237.134]\n",
      " [96.2327 46.5165 4.154 ... 43.1844 4.854 248.226]\n",
      " [45.6321 22.71 3.0441 ... -14.3164 0.3822 178.255]\n",
      " ...\n",
      " [115.264 14.0075 2.854 ... 8.4777 28.01 336.991]\n",
      " [32.4902 10.6723 2.4742 ... 8.4813 69.173 120.668]\n",
      " [75.4455 47.5305 3.4483 ... -9.4662 30.2987 256.5166]] \n",
      "X_test: [[13.0738 10.7959 2.1569 ... -10.2957 23.504 47.7905]\n",
      " [59.9928 34.8365 3.3439 ... 15.1518 5.726 282.142]\n",
      " [46.413 17.8084 2.9479 ... -13.7728 0.595 271.668]\n",
      " ...\n",
      " [90.2691 28.7008 3.9116 ... 11.9109 1.1204 269.286]\n",
      " [20.201 12.8139 2.3936 ... -5.2142 36.8528 206.465]\n",
      " [40.9662 17.7284 2.9248 ... -11.5951 4.324 137.016]] \n",
      "Y_train: ['g' 'g' 'g' ... 'h' 'h' 'h'] \n",
      "Y_test: ['g' 'g' 'g' ... 'g' 'g' 'g']\n"
     ]
    }
   ],
   "source": [
    "df = pd.read_csv(\"magic04.data\")\n",
    "\n",
    "X = df.to_numpy()[:,0:10]\n",
    "Y = df.to_numpy()[:,10]\n",
    "\n",
    "\n",
    "## X_train, X_test, Y_train, Y_test = train_test_split(X, Y, train_size=0.75)\n",
    "X_train, X_test, Y_train, Y_test = split_data(df, 0.75)\n",
    "print(\"\\nX_train:\", X_train, \"\\nX_test:\", X_test, \"\\nY_train:\", Y_train, \"\\nY_test:\", Y_test)\n"
   ]
  },
  {
   "cell_type": "code",
   "execution_count": 995,
   "metadata": {},
   "outputs": [
    {
     "name": "stdout",
     "output_type": "stream",
     "text": [
      "<class 'float'>\n"
     ]
    }
   ],
   "source": [
    "test = X_train[:,1]\n",
    "test2 = X_train\n",
    "# print(sorted(test))\n",
    "print(type(X_train[0,0]))\n"
   ]
  },
  {
   "cell_type": "markdown",
   "metadata": {},
   "source": [
    "En kolonne med en verdi for hver rad, hvor mange kilo bifangst av den arten for den turen per rekevekt for den samme turen. -> oversikt per kvartal, slå samme alle de av samme art. Men da summerer den opp de vektene, og det blir feil da vil jeg få et feil bilde?!?!"
   ]
  },
  {
   "cell_type": "code",
   "execution_count": 996,
   "metadata": {},
   "outputs": [],
   "source": [
    "def getLabelSplitAvg(X : np.ndarray, y : list, col : int) -> Tuple[list, list]:\n",
    "    xAvg = np.sum(X[:][col])/len(y)\n",
    "    aboveEq = []\n",
    "    below = []\n",
    "    for i in range(len(y)):\n",
    "        if X[i][col] >= xAvg:\n",
    "            aboveEq.append(y[i])\n",
    "        else:\n",
    "            below.append(y[i])\n",
    "    return (aboveEq, below)\n",
    "\n",
    "def getLabelSplitAvgX(X : np.ndarray, y : list, col : int) -> Tuple[list, list]:\n",
    "    xAvg = np.sum(X[:][col])/len(y)\n",
    "    aboveEq = []\n",
    "    below = []\n",
    "    for i in range(len(y)):\n",
    "        if X[i][col] >= xAvg:\n",
    "            aboveEq.append(X[i])\n",
    "        else:\n",
    "            below.append(X[i])\n",
    "    return (aboveEq, below)\n",
    "# getLabelSplitAvg(X_train, Y_train, 0)\n"
   ]
  },
  {
   "cell_type": "code",
   "execution_count": 997,
   "metadata": {},
   "outputs": [],
   "source": [
    "def entropy(y):\n",
    "    if len(y) == 0:\n",
    "        return 0\n",
    "    probOfG = list(y).count('g')/(len(y)) \n",
    "    probOfH = 1 - probOfG\n",
    "    if probOfG == 1 or probOfG == 0:\n",
    "        return probOfG\n",
    "    return (-1) * (probOfG * np.log2(probOfG) + (probOfH) * np.log2(probOfH))\n",
    "\n",
    "def entropySplit(X : List[list], y : list):\n",
    "    yEntropy = entropy(y)\n",
    "    allEnt = []\n",
    "    for col in range(len(X[0])):\n",
    "        aboveEq, below = getLabelSplitAvg(X, y, col)\n",
    "        allEnt.append(yEntropy - entropy(aboveEq)*len(aboveEq)/len(y) + entropy(below)*len(aboveEq)/len(y))\n",
    "    return allEnt.index(max(allEnt))\n",
    "    \n"
   ]
  },
  {
   "cell_type": "code",
   "execution_count": 998,
   "metadata": {},
   "outputs": [],
   "source": [
    "def gini_index(y):\n",
    "    probOfG = list(y).count('g')/(len(y))\n",
    "    if not y:\n",
    "        return 1\n",
    "    return  -probOfG * (1-(probOfG)) -(1-probOfG) * (1-(1-probOfG))\n",
    "\n",
    "    "
   ]
  },
  {
   "cell_type": "code",
   "execution_count": 999,
   "metadata": {},
   "outputs": [
    {
     "name": "stdout",
     "output_type": "stream",
     "text": [
      "Entropy: 0.9612366047228759\n",
      "Gini index: -0.47337278106508873\n",
      "Gini index test: -0.0\n",
      "Gini index test 2: -0.5\n",
      "Entropy test: 1.0\n",
      "Entropy test 2: 1.0\n",
      "Entropy split: 4\n"
     ]
    }
   ],
   "source": [
    "print(\"Entropy:\",entropy(['g','h','g','h','g','h','g','h','g','h','g','h','g','h','g','h','g','h','g','h','h','h','h','h','h','h']))\n",
    "print(\"Gini index:\",gini_index(['g','h','g','h','g','h','g','h','g','h','g','h','g','h','g','h','g','h','g','h','h','h','h','h','h','h']))\n",
    "print(\"Gini index test:\",gini_index(['g','g','g','g','g','g','g','g','g','g']))\n",
    "print(\"Gini index test 2:\",gini_index(['g','h']))\n",
    "print(\"Entropy test:\",entropy(['g','g','g','g','g','g','g','g','g','g',]))\n",
    "print(\"Entropy test 2:\",entropy(['g','h',]))\n",
    "\n",
    "print(\"Entropy split:\",entropySplit(X_train, Y_train))"
   ]
  },
  {
   "cell_type": "code",
   "execution_count": 1000,
   "metadata": {},
   "outputs": [
    {
     "ename": "RecursionError",
     "evalue": "maximum recursion depth exceeded while calling a Python object",
     "output_type": "error",
     "traceback": [
      "\u001b[0;31m---------------------------------------------------------------------------\u001b[0m",
      "\u001b[0;31mRecursionError\u001b[0m                            Traceback (most recent call last)",
      "\u001b[0;32m/tmp/ipykernel_352932/1069882753.py\u001b[0m in \u001b[0;36m<module>\u001b[0;34m\u001b[0m\n\u001b[1;32m     16\u001b[0m \u001b[0;31m# predict(new_x, tree)\u001b[0m\u001b[0;34m\u001b[0m\u001b[0;34m\u001b[0m\u001b[0;34m\u001b[0m\u001b[0m\n\u001b[1;32m     17\u001b[0m \u001b[0;34m\u001b[0m\u001b[0m\n\u001b[0;32m---> 18\u001b[0;31m \u001b[0mt\u001b[0m \u001b[0;34m=\u001b[0m \u001b[0mlearn\u001b[0m\u001b[0;34m(\u001b[0m\u001b[0mX_test\u001b[0m\u001b[0;34m,\u001b[0m\u001b[0mY_test\u001b[0m\u001b[0;34m)\u001b[0m\u001b[0;34m\u001b[0m\u001b[0;34m\u001b[0m\u001b[0m\n\u001b[0m\u001b[1;32m     19\u001b[0m \u001b[0;34m\u001b[0m\u001b[0m\n",
      "\u001b[0;32m/tmp/ipykernel_352932/1069882753.py\u001b[0m in \u001b[0;36mlearn\u001b[0;34m(X, y, impurity_measure)\u001b[0m\n\u001b[1;32m     11\u001b[0m         \u001b[0my1\u001b[0m\u001b[0;34m,\u001b[0m \u001b[0my2\u001b[0m \u001b[0;34m=\u001b[0m \u001b[0mgetLabelSplitAvg\u001b[0m\u001b[0;34m(\u001b[0m\u001b[0mX\u001b[0m\u001b[0;34m,\u001b[0m \u001b[0my\u001b[0m\u001b[0;34m,\u001b[0m \u001b[0msplitIndex\u001b[0m\u001b[0;34m)\u001b[0m\u001b[0;34m\u001b[0m\u001b[0;34m\u001b[0m\u001b[0m\n\u001b[1;32m     12\u001b[0m \u001b[0;34m\u001b[0m\u001b[0m\n\u001b[0;32m---> 13\u001b[0;31m         \u001b[0;32mreturn\u001b[0m \u001b[0;34m(\u001b[0m\u001b[0mlearn\u001b[0m\u001b[0;34m(\u001b[0m\u001b[0mx1\u001b[0m\u001b[0;34m,\u001b[0m \u001b[0my1\u001b[0m\u001b[0;34m)\u001b[0m\u001b[0;34m,\u001b[0m \u001b[0mlearn\u001b[0m\u001b[0;34m(\u001b[0m\u001b[0mx2\u001b[0m\u001b[0;34m,\u001b[0m \u001b[0my2\u001b[0m\u001b[0;34m)\u001b[0m\u001b[0;34m,\u001b[0m \u001b[0msplitIndex\u001b[0m\u001b[0;34m,\u001b[0m \u001b[0mnp\u001b[0m\u001b[0;34m.\u001b[0m\u001b[0msum\u001b[0m\u001b[0;34m(\u001b[0m\u001b[0mX\u001b[0m\u001b[0;34m[\u001b[0m\u001b[0;34m:\u001b[0m\u001b[0;34m,\u001b[0m \u001b[0msplitIndex\u001b[0m\u001b[0;34m]\u001b[0m\u001b[0;34m)\u001b[0m\u001b[0;34m/\u001b[0m\u001b[0mlen\u001b[0m\u001b[0;34m(\u001b[0m\u001b[0my\u001b[0m\u001b[0;34m)\u001b[0m\u001b[0;34m-\u001b[0m\u001b[0;36m1\u001b[0m\u001b[0;34m)\u001b[0m\u001b[0;34m\u001b[0m\u001b[0;34m\u001b[0m\u001b[0m\n\u001b[0m\u001b[1;32m     14\u001b[0m \u001b[0;34m\u001b[0m\u001b[0m\n\u001b[1;32m     15\u001b[0m \u001b[0;31m# tree = learn(X, y)\u001b[0m\u001b[0;34m\u001b[0m\u001b[0;34m\u001b[0m\u001b[0;34m\u001b[0m\u001b[0m\n",
      "... last 1 frames repeated, from the frame below ...\n",
      "\u001b[0;32m/tmp/ipykernel_352932/1069882753.py\u001b[0m in \u001b[0;36mlearn\u001b[0;34m(X, y, impurity_measure)\u001b[0m\n\u001b[1;32m     11\u001b[0m         \u001b[0my1\u001b[0m\u001b[0;34m,\u001b[0m \u001b[0my2\u001b[0m \u001b[0;34m=\u001b[0m \u001b[0mgetLabelSplitAvg\u001b[0m\u001b[0;34m(\u001b[0m\u001b[0mX\u001b[0m\u001b[0;34m,\u001b[0m \u001b[0my\u001b[0m\u001b[0;34m,\u001b[0m \u001b[0msplitIndex\u001b[0m\u001b[0;34m)\u001b[0m\u001b[0;34m\u001b[0m\u001b[0;34m\u001b[0m\u001b[0m\n\u001b[1;32m     12\u001b[0m \u001b[0;34m\u001b[0m\u001b[0m\n\u001b[0;32m---> 13\u001b[0;31m         \u001b[0;32mreturn\u001b[0m \u001b[0;34m(\u001b[0m\u001b[0mlearn\u001b[0m\u001b[0;34m(\u001b[0m\u001b[0mx1\u001b[0m\u001b[0;34m,\u001b[0m \u001b[0my1\u001b[0m\u001b[0;34m)\u001b[0m\u001b[0;34m,\u001b[0m \u001b[0mlearn\u001b[0m\u001b[0;34m(\u001b[0m\u001b[0mx2\u001b[0m\u001b[0;34m,\u001b[0m \u001b[0my2\u001b[0m\u001b[0;34m)\u001b[0m\u001b[0;34m,\u001b[0m \u001b[0msplitIndex\u001b[0m\u001b[0;34m,\u001b[0m \u001b[0mnp\u001b[0m\u001b[0;34m.\u001b[0m\u001b[0msum\u001b[0m\u001b[0;34m(\u001b[0m\u001b[0mX\u001b[0m\u001b[0;34m[\u001b[0m\u001b[0;34m:\u001b[0m\u001b[0;34m,\u001b[0m \u001b[0msplitIndex\u001b[0m\u001b[0;34m]\u001b[0m\u001b[0;34m)\u001b[0m\u001b[0;34m/\u001b[0m\u001b[0mlen\u001b[0m\u001b[0;34m(\u001b[0m\u001b[0my\u001b[0m\u001b[0;34m)\u001b[0m\u001b[0;34m-\u001b[0m\u001b[0;36m1\u001b[0m\u001b[0;34m)\u001b[0m\u001b[0;34m\u001b[0m\u001b[0;34m\u001b[0m\u001b[0m\n\u001b[0m\u001b[1;32m     14\u001b[0m \u001b[0;34m\u001b[0m\u001b[0m\n\u001b[1;32m     15\u001b[0m \u001b[0;31m# tree = learn(X, y)\u001b[0m\u001b[0;34m\u001b[0m\u001b[0;34m\u001b[0m\u001b[0;34m\u001b[0m\u001b[0m\n",
      "\u001b[0;31mRecursionError\u001b[0m: maximum recursion depth exceeded while calling a Python object"
     ]
    }
   ],
   "source": [
    "\n",
    "def learn(X, y, impurity_measure='entropy'):\n",
    "    if len(set(y))-1==0:\n",
    "        sys.stdout.write(\"what\")\n",
    "        sys.stdout.flush()\n",
    "        return y[0]\n",
    "\n",
    "    elif all(list(map(lambda x: all(list(map(lambda y: X[0][0]==y, x))), list(X)))):\n",
    "        return 'g' if list(y).count('g')>(len(y)-1/2) else 'h'\n",
    "    \n",
    "    else:\n",
    "        splitIndex = entropySplit(X,y)\n",
    "        x1, x2 = getLabelSplitAvgX(X, y, splitIndex)\n",
    "        y1, y2 = getLabelSplitAvg(X, y, splitIndex)\n",
    "\n",
    "        return (learn(x1, y1), learn(x2, y2), splitIndex, np.sum(X[:, splitIndex])/len(y)-1)\n",
    "\n",
    "# tree = learn(X, y)\n",
    "# predict(new_x, tree)\n",
    "\n",
    "t = learn(X_test,Y_test)\n",
    "\n"
   ]
  },
  {
   "cell_type": "code",
   "execution_count": null,
   "metadata": {},
   "outputs": [
    {
     "name": "stdout",
     "output_type": "stream",
     "text": [
      "g\n"
     ]
    }
   ],
   "source": [
    "def predict(x, tree):\n",
    "    if tree in ['g', 'h']:\n",
    "        return tree\n",
    "    else:\n",
    "        splitIndex = tree[2]\n",
    "        avg = tree[3]\n",
    "        return predict(x, tree[0]) if x[splitIndex] >= avg else predict(x, tree[1])\n",
    "\n",
    "#g = learn(X_train, Y_train)\n",
    "#print(predict([36.1741,17.6865,2.946,0.2865,0.1591,-4.7746,-18.9697,11.3256,0.254,191.455], g))\n",
    "\n",
    "print(predict(X_train[0],t))"
   ]
  }
 ],
 "metadata": {
  "interpreter": {
   "hash": "916dbcbb3f70747c44a77c7bcd40155683ae19c65e1c03b4aa3499c5328201f1"
  },
  "kernelspec": {
   "display_name": "Python 3 (ipykernel)",
   "language": "python",
   "name": "python3"
  },
  "language_info": {
   "codemirror_mode": {
    "name": "ipython",
    "version": 3
   },
   "file_extension": ".py",
   "mimetype": "text/x-python",
   "name": "python",
   "nbconvert_exporter": "python",
   "pygments_lexer": "ipython3",
   "version": "3.9.5"
  }
 },
 "nbformat": 4,
 "nbformat_minor": 2
}
