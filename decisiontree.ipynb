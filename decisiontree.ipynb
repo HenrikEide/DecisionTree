{
 "cells": [
  {
   "cell_type": "code",
   "execution_count": 16,
   "source": [
    "import numpy as np\r\n",
    "import pandas as pd\r\n",
    "from typing import Tuple, List\r\n",
    "from sklearn.metrics import accuracy_score\r\n",
    "from sklearn.model_selection import train_test_split\r\n",
    "import matplotlib.pyplot as plt\r\n",
    "import time as t"
   ],
   "outputs": [],
   "metadata": {}
  },
  {
   "cell_type": "code",
   "execution_count": 17,
   "source": [
    "df = pd.read_csv(\"magic04.data\")\r\n",
    "\r\n",
    "X = df.to_numpy()[:,0:10]\r\n",
    "Y = df.to_numpy()[:,10]\r\n",
    "\r\n",
    "X_train, X_test, Y_train, Y_test = train_test_split(X, Y, train_size=0.75)\r\n"
   ],
   "outputs": [],
   "metadata": {}
  },
  {
   "cell_type": "code",
   "execution_count": 32,
   "source": [
    "test = X_train[:,1]\r\n",
    "test2 = X_train\r\n",
    "# print(sorted(test))\r\n",
    "print(type(Y_train))"
   ],
   "outputs": [
    {
     "output_type": "stream",
     "name": "stdout",
     "text": [
      "<class 'numpy.ndarray'>\n"
     ]
    }
   ],
   "metadata": {}
  },
  {
   "cell_type": "markdown",
   "source": [
    "En kolonne med en verdi for hver rad, hvor mange kilo bifangst av den arten for den turen per rekevekt for den samme turen. -> oversikt per kvartal, slå samme alle de av samme art. Men da summerer den opp de vektene, og det blir feil da vil jeg få et feil bilde?!?!"
   ],
   "metadata": {}
  },
  {
   "cell_type": "code",
   "execution_count": 31,
   "source": [
    "def getLabelSplitAvg(X : List[list], y : list, col : int) -> Tuple[list, list]:\r\n",
    "    xAvg = np.sum(X[:,col])/len(y)\r\n",
    "    aboveEq = []\r\n",
    "    below = []\r\n",
    "    for i in range(len(y)):\r\n",
    "        if X[i,col] >= xAvg:\r\n",
    "            aboveEq.append(y[i])\r\n",
    "        else:\r\n",
    "            below.append(y[i])\r\n",
    "    return (aboveEq, below)\r\n",
    "\r\n",
    "# getLabelSplitAvg(X_train, Y_train, 0)\r\n"
   ],
   "outputs": [],
   "metadata": {}
  },
  {
   "cell_type": "code",
   "execution_count": null,
   "source": [
    "def entropySplit(X : List[list], y : list):"
   ],
   "outputs": [],
   "metadata": {}
  }
 ],
 "metadata": {
  "orig_nbformat": 4,
  "language_info": {
   "name": "python",
   "version": "3.8.3",
   "mimetype": "text/x-python",
   "codemirror_mode": {
    "name": "ipython",
    "version": 3
   },
   "pygments_lexer": "ipython3",
   "nbconvert_exporter": "python",
   "file_extension": ".py"
  },
  "kernelspec": {
   "name": "python3",
   "display_name": "Python 3.8.3 64-bit"
  },
  "interpreter": {
   "hash": "2db524e06e9f5f4ffedc911c917cb75e12dbc923643829bf417064a77eb14d37"
  }
 },
 "nbformat": 4,
 "nbformat_minor": 2
}