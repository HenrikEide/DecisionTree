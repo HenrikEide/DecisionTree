{
 "cells": [
  {
   "cell_type": "code",
   "execution_count": 19,
   "source": [
    "import numpy as np\r\n",
    "import pandas as pd\r\n",
    "from typing import Tuple, List\r\n",
    "from sklearn.metrics import accuracy_score\r\n",
    "from sklearn.model_selection import train_test_split\r\n",
    "import matplotlib.pyplot as plt\r\n",
    "import time as t"
   ],
   "outputs": [],
   "metadata": {}
  },
  {
   "cell_type": "code",
   "execution_count": 20,
   "source": [
    "df = pd.read_csv(\"magic04.data\")\r\n",
    "\r\n",
    "X = df.to_numpy()[:,0:10]\r\n",
    "Y = df.to_numpy()[:,10]\r\n",
    "\r\n",
    "X_train, X_test, Y_train, Y_test = train_test_split(X, Y, train_size=0.75)\r\n"
   ],
   "outputs": [],
   "metadata": {}
  },
  {
   "cell_type": "code",
   "execution_count": 21,
   "source": [
    "test = X_train[:,1]\r\n",
    "test2 = X_train\r\n",
    "# print(sorted(test))\r\n",
    "print(type(X_train[0,0]))\r\n"
   ],
   "outputs": [
    {
     "output_type": "stream",
     "name": "stdout",
     "text": [
      "<class 'float'>\n"
     ]
    }
   ],
   "metadata": {}
  },
  {
   "cell_type": "markdown",
   "source": [
    "En kolonne med en verdi for hver rad, hvor mange kilo bifangst av den arten for den turen per rekevekt for den samme turen. -> oversikt per kvartal, slå samme alle de av samme art. Men da summerer den opp de vektene, og det blir feil da vil jeg få et feil bilde?!?!"
   ],
   "metadata": {}
  },
  {
   "cell_type": "code",
   "execution_count": 22,
   "source": [
    "def getLabelSplitAvg(X : np.ndarray, y : list, col : int) -> Tuple[list, list]:\r\n",
    "    xAvg = np.sum(X[:][col])/len(y)\r\n",
    "    aboveEq = []\r\n",
    "    below = []\r\n",
    "    for i in range(len(y)):\r\n",
    "        if X[i][col] >= xAvg:\r\n",
    "            aboveEq.append(y[i])\r\n",
    "        else:\r\n",
    "            below.append(y[i])\r\n",
    "    return (aboveEq, below)\r\n",
    "\r\n",
    "def getLabelSplitAvgX(X : np.ndarray, y : list, col : int) -> Tuple[list, list]:\r\n",
    "    xAvg = np.sum(X[:][col])/len(y)\r\n",
    "    aboveEq = []\r\n",
    "    below = []\r\n",
    "    for i in range(len(y)):\r\n",
    "        if X[i][col] >= xAvg:\r\n",
    "            aboveEq.append(X[i])\r\n",
    "        else:\r\n",
    "            below.append(X[i])\r\n",
    "    return (aboveEq, below)\r\n",
    "# getLabelSplitAvg(X_train, Y_train, 0)\r\n"
   ],
   "outputs": [],
   "metadata": {}
  },
  {
   "cell_type": "code",
   "execution_count": 23,
   "source": [
    "def entropy(y):\r\n",
    "    if len(y) == 0:\r\n",
    "        return 0\r\n",
    "    probOfG = list(y).count('g')/(len(y)) \r\n",
    "    probOfH = 1 - probOfG\r\n",
    "    if probOfG == 1 or probOfG == 0:\r\n",
    "        return probOfG\r\n",
    "    return (-1) * (probOfG * np.log2(probOfG) + (probOfH) * np.log2(probOfH))\r\n",
    "\r\n",
    "def entropySplit(X : List[list], y : list):\r\n",
    "    yEntropy = entropy(y)\r\n",
    "    allEnt = []\r\n",
    "    for col in range(len(X[0])):\r\n",
    "        aboveEq, below = getLabelSplitAvg(X, y, col)\r\n",
    "        allEnt.append(yEntropy - entropy(aboveEq)*len(aboveEq)/len(y) + entropy(below)*len(aboveEq)/len(y))\r\n",
    "    return allEnt.index(max(allEnt))\r\n",
    "    \r\n"
   ],
   "outputs": [],
   "metadata": {}
  },
  {
   "cell_type": "code",
   "execution_count": 24,
   "source": [
    "print(entropy(['g','h','g','h','g','h','g','h','g','h','g','h','g','h','g','h','g','h','g','h','h','h','h','h','h','h']))\r\n",
    "\r\n",
    "print(entropySplit(X_train, Y_train))"
   ],
   "outputs": [
    {
     "output_type": "stream",
     "name": "stdout",
     "text": [
      "0.9612366047228759\n",
      "6\n"
     ]
    }
   ],
   "metadata": {}
  },
  {
   "cell_type": "code",
   "execution_count": 25,
   "source": [
    "\r\n",
    "def learn(X, y):\r\n",
    "    if len(set(y))==1:\r\n",
    "        return y[0]\r\n",
    "\r\n",
    "    elif all(list(map(lambda x: all(list(map(lambda y: X[0][0]==y, x))), list(X)))):\r\n",
    "        return 'g' if list(y).count('g')>(len(y)/2) else 'h'\r\n",
    "    \r\n",
    "    else:\r\n",
    "        splitIndex = entropySplit(X,y)\r\n",
    "        x1, x2 = getLabelSplitAvgX(X, y, splitIndex)\r\n",
    "        y1, y2 = getLabelSplitAvg(X, y, splitIndex)\r\n",
    "\r\n",
    "        return (learn(x1, y1), learn(x2, y2), splitIndex, np.sum(X[:, splitIndex])/len(y))\r\n",
    "\r\n",
    "# tree = learn(X, y)\r\n",
    "# predict(new_x, tree)\r\n",
    "\r\n",
    "def predict(x, tree):\r\n",
    "    if tree in ['g', 'h']:\r\n",
    "        return tree\r\n",
    "    else:\r\n",
    "        splitIndex = tree[2]\r\n",
    "        avg = tree[3]\r\n",
    "        return predict(x, tree[0]) if x[splitIndex] >= avg else predict(x, tree[1])\r\n",
    "\r\n",
    "#g = learn(X_train, Y_train)\r\n",
    "#print(predict([36.1741,17.6865,2.946,0.2865,0.1591,-4.7746,-18.9697,11.3256,0.254,191.455], g))\r\n",
    "\r\n"
   ],
   "outputs": [],
   "metadata": {}
  },
  {
   "cell_type": "code",
   "execution_count": null,
   "source": [
    "print(predict(learn(X_test[0],X_test, Y_test)))"
   ],
   "outputs": [
    {
     "output_type": "error",
     "ename": "Error",
     "evalue": "Kernel is dead",
     "traceback": [
      "Error: Kernel is dead",
      "at g._sendKernelShellControl (c:\\Users\\Henrik Olsen Eide\\.vscode\\extensions\\ms-toolsai.jupyter-2021.8.2041215044\\out\\client\\extension.js:52:1006195)",
      "at g.sendShellMessage (c:\\Users\\Henrik Olsen Eide\\.vscode\\extensions\\ms-toolsai.jupyter-2021.8.2041215044\\out\\client\\extension.js:52:1005964)",
      "at g.requestExecute (c:\\Users\\Henrik Olsen Eide\\.vscode\\extensions\\ms-toolsai.jupyter-2021.8.2041215044\\out\\client\\extension.js:52:1008506)",
      "at d.requestExecute (c:\\Users\\Henrik Olsen Eide\\.vscode\\extensions\\ms-toolsai.jupyter-2021.8.2041215044\\out\\client\\extension.js:37:325680)",
      "at w.requestExecute (c:\\Users\\Henrik Olsen Eide\\.vscode\\extensions\\ms-toolsai.jupyter-2021.8.2041215044\\out\\client\\extension.js:32:18027)",
      "at w.executeCodeCell (c:\\Users\\Henrik Olsen Eide\\.vscode\\extensions\\ms-toolsai.jupyter-2021.8.2041215044\\out\\client\\extension.js:52:301076)",
      "at w.execute (c:\\Users\\Henrik Olsen Eide\\.vscode\\extensions\\ms-toolsai.jupyter-2021.8.2041215044\\out\\client\\extension.js:52:300703)",
      "at w.start (c:\\Users\\Henrik Olsen Eide\\.vscode\\extensions\\ms-toolsai.jupyter-2021.8.2041215044\\out\\client\\extension.js:52:296367)",
      "at runMicrotasks (<anonymous>)",
      "at processTicksAndRejections (internal/process/task_queues.js:93:5)",
      "at async t.CellExecutionQueue.executeQueuedCells (c:\\Users\\Henrik Olsen Eide\\.vscode\\extensions\\ms-toolsai.jupyter-2021.8.2041215044\\out\\client\\extension.js:52:311160)",
      "at async t.CellExecutionQueue.start (c:\\Users\\Henrik Olsen Eide\\.vscode\\extensions\\ms-toolsai.jupyter-2021.8.2041215044\\out\\client\\extension.js:52:310700)"
     ]
    }
   ],
   "metadata": {}
  }
 ],
 "metadata": {
  "orig_nbformat": 4,
  "language_info": {
   "name": "python",
   "version": "3.8.3",
   "mimetype": "text/x-python",
   "codemirror_mode": {
    "name": "ipython",
    "version": 3
   },
   "pygments_lexer": "ipython3",
   "nbconvert_exporter": "python",
   "file_extension": ".py"
  },
  "kernelspec": {
   "name": "python3",
   "display_name": "Python 3.8.3 64-bit"
  },
  "interpreter": {
   "hash": "2db524e06e9f5f4ffedc911c917cb75e12dbc923643829bf417064a77eb14d37"
  }
 },
 "nbformat": 4,
 "nbformat_minor": 2
}