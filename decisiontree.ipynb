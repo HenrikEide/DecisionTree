{
 "cells": [
  {
   "cell_type": "code",
   "execution_count": 172,
   "source": [
    "import numpy as np\n",
    "import pandas as pd\n",
    "from typing import Tuple, List\n",
    "from sklearn.metrics import accuracy_score\n",
    "from sklearn.model_selection import train_test_split\n",
    "import matplotlib.pyplot as plt\n",
    "import time as t"
   ],
   "outputs": [],
   "metadata": {}
  },
  {
   "cell_type": "code",
   "execution_count": 173,
   "source": [
    "def split_data(data, split_percent):\n",
    "    test_data = data.sample(frac=split_percent)\n",
    "    training_data = data.drop(test_data.index)\n",
    "    x_test = test_data.to_numpy()[:,0:10]\n",
    "    x_train = training_data.to_numpy()[:,0:10]\n",
    "    y_test = test_data.to_numpy()[:,10]\n",
    "    y_train = training_data.to_numpy()[:,10]\n",
    "\n",
    "    return x_train, x_test, y_train, y_test"
   ],
   "outputs": [],
   "metadata": {}
  },
  {
   "cell_type": "code",
   "execution_count": null,
   "source": [
    "def is_identical(x):\n",
    "    for row in x:\n",
    "        if np.any(row != x[len(x)-1]):\n",
    "            return False\n",
    "        else:\n",
    "            return True"
   ],
   "outputs": [],
   "metadata": {}
  },
  {
   "cell_type": "code",
   "execution_count": 174,
   "source": [
    "df = pd.read_csv(\"magic04.data\")\n",
    "\n",
    "X = df.to_numpy()[:,0:10]\n",
    "Y = df.to_numpy()[:,10]\n",
    "\n",
    "\n",
    "## X_train, X_test, Y_train, Y_test = train_test_split(X, Y, train_size=0.75)\n",
    "X_train, X_test, Y_train, Y_test = split_data(df, 0.75)\n",
    "print(\"\\nX_train:\", X_train, \"\\nX_test:\", X_test, \"\\nY_train:\", Y_train, \"\\nY_test:\", Y_test)\n"
   ],
   "outputs": [
    {
     "output_type": "stream",
     "name": "stdout",
     "text": [
      "\n",
      "X_train: [[26.7897 13.7595 2.5521 ... -2.9292 0.812 237.134]\n",
      " [60.458 33.1061 3.1944 ... 28.8315 8.292 372.568]\n",
      " [46.2915 16.0328 2.7756 ... -12.7979 38.707 75.5234]\n",
      " ...\n",
      " [18.0124 10.6746 2.5694 ... 4.701 52.463 172.596]\n",
      " [21.5189 15.4205 2.7328 ... 17.1609 80.4307 223.973]\n",
      " [23.4293 11.3673 2.7001 ... 15.6128 88.3032 269.0718]] \n",
      "X_test: [[31.0964 14.4152 2.5099 ... -7.1128 18.7547 237.581]\n",
      " [28.5274 14.6945 2.8859 ... 4.9989 31.4456 115.003]\n",
      " [198.7183 99.2397 3.5728 ... -120.9131 34.4383 278.564]\n",
      " ...\n",
      " [47.9114 7.7983 2.4407 ... -9.789 38.0807 132.6536]\n",
      " [29.3302 12.9857 2.5378 ... 4.6754 72.755 122.374]\n",
      " [154.646 40.1924 3.4518 ... -18.5268 4.0716 217.376]] \n",
      "Y_train: ['g' 'g' 'g' ... 'h' 'h' 'h'] \n",
      "Y_test: ['g' 'g' 'h' ... 'h' 'h' 'g']\n"
     ]
    }
   ],
   "metadata": {}
  },
  {
   "cell_type": "code",
   "execution_count": 175,
   "source": [
    "test = X_train[:,1]\n",
    "test2 = X_train\n",
    "# print(sorted(test))\n",
    "print(type(X_train[0,0]))\n"
   ],
   "outputs": [
    {
     "output_type": "stream",
     "name": "stdout",
     "text": [
      "<class 'float'>\n"
     ]
    }
   ],
   "metadata": {}
  },
  {
   "cell_type": "markdown",
   "source": [
    "En kolonne med en verdi for hver rad, hvor mange kilo bifangst av den arten for den turen per rekevekt for den samme turen. -> oversikt per kvartal, slå samme alle de av samme art. Men da summerer den opp de vektene, og det blir feil da vil jeg få et feil bilde?!?!"
   ],
   "metadata": {}
  },
  {
   "cell_type": "code",
   "execution_count": 176,
   "source": [
    "def getLabelSplitAvg(X : np.ndarray, y : list, col : int) -> Tuple[list, list]:\n",
    "    xAvg = np.sum(X[:][col])/len(y)\n",
    "    aboveEq = []\n",
    "    below = []\n",
    "    for i in range(len(y)):\n",
    "        if X[i][col] >= xAvg:\n",
    "            aboveEq.append(y[i])\n",
    "        else:\n",
    "            below.append(y[i])\n",
    "    return (aboveEq, below)\n",
    "\n",
    "def getLabelSplitAvgX(X : np.ndarray, y : list, col : int) -> Tuple[list, list]:\n",
    "    xAvg = np.sum(X[:][col])/len(y)\n",
    "    aboveEq = []\n",
    "    below = []\n",
    "    for i in range(len(y)):\n",
    "        if X[i][col] >= xAvg:\n",
    "            aboveEq.append(X[i])\n",
    "        else:\n",
    "            below.append(X[i])\n",
    "    return (aboveEq, below)\n",
    "# getLabelSplitAvg(X_train, Y_train, 0)\n"
   ],
   "outputs": [],
   "metadata": {}
  },
  {
   "cell_type": "code",
   "execution_count": 177,
   "source": [
    "def entropy(y):\n",
    "    if len(y) == 0:\n",
    "        return 0\n",
    "    probOfG = list(y).count('g')/(len(y)) \n",
    "    probOfH = 1 - probOfG\n",
    "    if probOfG == 1 or probOfG == 0:\n",
    "        return probOfG\n",
    "    return (-1) * (probOfG * np.log2(probOfG) + (probOfH) * np.log2(probOfH))\n",
    "\n",
    "def entropySplit(X : List[list], y : list):\n",
    "    yEntropy = entropy(y)\n",
    "    allEnt = []\n",
    "    for col in range(len(X[0])):\n",
    "        aboveEq, below = getLabelSplitAvg(X, y, col)\n",
    "        allEnt.append(yEntropy - entropy(aboveEq)*len(aboveEq)/len(y) + entropy(below)*len(aboveEq)/len(y))\n",
    "    return allEnt.index(max(allEnt))\n",
    "    \n"
   ],
   "outputs": [],
   "metadata": {}
  },
  {
   "cell_type": "code",
   "execution_count": 178,
   "source": [
    "def gini_index(y):\n",
    "    probOfG = list(y).count('g')/(len(y))\n",
    "    if not y:\n",
    "        return 1\n",
    "    return  -probOfG * (1-(probOfG)) -(1-probOfG) * (1-(1-probOfG))\n",
    "\n",
    "    "
   ],
   "outputs": [],
   "metadata": {}
  },
  {
   "cell_type": "code",
   "execution_count": 179,
   "source": [
    "print(\"Entropy:\",entropy(['g','h','g','h','g','h','g','h','g','h','g','h','g','h','g','h','g','h','g','h','h','h','h','h','h','h']))\n",
    "print(\"Gini index:\",gini_index(['g','h','g','h','g','h','g','h','g','h','g','h','g','h','g','h','g','h','g','h','h','h','h','h','h','h']))\n",
    "print(\"Gini index test:\",gini_index(['g','g','g','g','g','g','g','g','g','g']))\n",
    "print(\"Gini index test 2:\",gini_index(['g','h']))\n",
    "print(\"Entropy test:\",entropy(['g','g','g','g','g','g','g','g','g','g',]))\n",
    "print(\"Entropy test 2:\",entropy(['g','h',]))\n",
    "\n",
    "print(\"Entropy split:\",entropySplit(X_train, Y_train))"
   ],
   "outputs": [
    {
     "output_type": "stream",
     "name": "stdout",
     "text": [
      "Entropy: 0.9612366047228759\n",
      "Gini index: -0.47337278106508873\n",
      "Gini index test: -0.0\n",
      "Gini index test 2: -0.5\n",
      "Entropy test: 1.0\n",
      "Entropy test 2: 1.0\n",
      "Entropy split: 6\n"
     ]
    }
   ],
   "metadata": {}
  },
  {
   "cell_type": "code",
   "execution_count": 180,
   "source": [
    "\n",
    "def learn(X, y, impurity_measure='entropy'):\n",
    "    if len(set(y))-1==1:\n",
    "        return y[0]\n",
    "\n",
    "    elif all(list(map(lambda x: all(list(map(lambda y: X[0][0]==y, x))), list(X)))):\n",
    "        return 'g' if list(y).count('g')>(len(y)-1/2) else 'h'\n",
    "    \n",
    "    else:\n",
    "        splitIndex = entropySplit(X,y)\n",
    "        x1, x2 = getLabelSplitAvgX(X, y, splitIndex)\n",
    "        y1, y2 = getLabelSplitAvg(X, y, splitIndex)\n",
    "\n",
    "        return (learn(x1, y1), learn(x2, y2), splitIndex, np.sum(X[:, splitIndex])/len(y)-1)\n",
    "\n",
    "# tree = learn(X, y)\n",
    "# predict(new_x, tree)\n",
    "\n",
    "t = learn(X_test,Y_test)\n",
    "\n"
   ],
   "outputs": [],
   "metadata": {}
  },
  {
   "cell_type": "code",
   "execution_count": 181,
   "source": [
    "def predict(x, tree):\n",
    "    if tree in ['g', 'h']:\n",
    "        return tree\n",
    "    else:\n",
    "        splitIndex = tree[2]\n",
    "        avg = tree[3]\n",
    "        return predict(x, tree[0]) if x[splitIndex] >= avg else predict(x, tree[1])\n",
    "\n",
    "#g = learn(X_train, Y_train)\n",
    "#print(predict([36.1741,17.6865,2.946,0.2865,0.1591,-4.7746,-18.9697,11.3256,0.254,191.455], g))\n",
    "\n",
    "print(predict(X_train[0],t))"
   ],
   "outputs": [
    {
     "output_type": "stream",
     "name": "stdout",
     "text": [
      "g\n"
     ]
    }
   ],
   "metadata": {}
  }
 ],
 "metadata": {
  "orig_nbformat": 4,
  "language_info": {
   "name": "python",
   "version": "3.9.5",
   "mimetype": "text/x-python",
   "codemirror_mode": {
    "name": "ipython",
    "version": 3
   },
   "pygments_lexer": "ipython3",
   "nbconvert_exporter": "python",
   "file_extension": ".py"
  },
  "kernelspec": {
   "name": "python3",
   "display_name": "Python 3.9.5 64-bit"
  },
  "interpreter": {
   "hash": "916dbcbb3f70747c44a77c7bcd40155683ae19c65e1c03b4aa3499c5328201f1"
  }
 },
 "nbformat": 4,
 "nbformat_minor": 2
}